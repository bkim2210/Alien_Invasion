{
  "nbformat": 4,
  "nbformat_minor": 0,
  "metadata": {
    "colab": {
      "name": "Untitled8.ipynb",
      "provenance": [],
      "authorship_tag": "ABX9TyMT+CxbJRHPWodgaJV99PX4",
      "include_colab_link": true
    },
    "kernelspec": {
      "display_name": "Python 3",
      "name": "python3"
    },
    "language_info": {
      "name": "python"
    }
  },
  "cells": [
    {
      "cell_type": "markdown",
      "metadata": {
        "id": "view-in-github",
        "colab_type": "text"
      },
      "source": [
        "<a href=\"https://colab.research.google.com/github/bkim2210/Alien_Invasion/blob/master/Untitled8.ipynb\" target=\"_parent\"><img src=\"https://colab.research.google.com/assets/colab-badge.svg\" alt=\"Open In Colab\"/></a>"
      ]
    },
    {
      "cell_type": "code",
      "metadata": {
        "colab": {
          "base_uri": "https://localhost:8080/"
        },
        "id": "wDBCS802kV_Z",
        "outputId": "51d909e9-c86b-4a49-8d92-cbb72a3dcc90"
      },
      "source": [
        "from google.colab import drive,files\n",
        "drive.mount('/content/drive')"
      ],
      "execution_count": 2,
      "outputs": [
        {
          "output_type": "stream",
          "name": "stdout",
          "text": [
            "Mounted at /content/drive\n"
          ]
        }
      ]
    },
    {
      "cell_type": "code",
      "metadata": {
        "id": "XQhStVJfg_rd"
      },
      "source": [
        "import pandas as pd, numpy as np, matplotlib.pyplot as plt,scipy, seaborn as sns\n",
        "from importlib import reload\n",
        "from importlib import reload\n",
        "plt=reload(plt)\n",
        "\n"
      ],
      "execution_count": 17,
      "outputs": []
    },
    {
      "cell_type": "code",
      "metadata": {
        "id": "EfWoYdF4gpql",
        "colab": {
          "base_uri": "https://localhost:8080/",
          "height": 200
        },
        "outputId": "348172d2-4236-4e3d-a5f7-d5b8822bd8dc"
      },
      "source": [
        "df = pd.read_csv('/content/drive/MyDrive/job_skills.csv')\n",
        "df.head()"
      ],
      "execution_count": 4,
      "outputs": [
        {
          "output_type": "execute_result",
          "data": {
            "text/html": [
              "<div>\n",
              "<style scoped>\n",
              "    .dataframe tbody tr th:only-of-type {\n",
              "        vertical-align: middle;\n",
              "    }\n",
              "\n",
              "    .dataframe tbody tr th {\n",
              "        vertical-align: top;\n",
              "    }\n",
              "\n",
              "    .dataframe thead th {\n",
              "        text-align: right;\n",
              "    }\n",
              "</style>\n",
              "<table border=\"1\" class=\"dataframe\">\n",
              "  <thead>\n",
              "    <tr style=\"text-align: right;\">\n",
              "      <th></th>\n",
              "      <th>Company</th>\n",
              "      <th>Title</th>\n",
              "      <th>Category</th>\n",
              "      <th>Location</th>\n",
              "      <th>Responsibilities</th>\n",
              "      <th>Minimum Qualifications</th>\n",
              "      <th>Preferred Qualifications</th>\n",
              "    </tr>\n",
              "  </thead>\n",
              "  <tbody>\n",
              "    <tr>\n",
              "      <th>0</th>\n",
              "      <td>Google</td>\n",
              "      <td>Google Cloud Program Manager</td>\n",
              "      <td>Program Management</td>\n",
              "      <td>Singapore</td>\n",
              "      <td>Shape, shepherd, ship, and show technical prog...</td>\n",
              "      <td>BA/BS degree or equivalent practical experienc...</td>\n",
              "      <td>Experience in the business technology market a...</td>\n",
              "    </tr>\n",
              "    <tr>\n",
              "      <th>1</th>\n",
              "      <td>Google</td>\n",
              "      <td>Supplier Development Engineer (SDE), Cable/Con...</td>\n",
              "      <td>Manufacturing &amp; Supply Chain</td>\n",
              "      <td>Shanghai, China</td>\n",
              "      <td>Drive cross-functional activities in the suppl...</td>\n",
              "      <td>BS degree in an Engineering discipline or equi...</td>\n",
              "      <td>BSEE, BSME or BSIE degree.\\nExperience of usin...</td>\n",
              "    </tr>\n",
              "    <tr>\n",
              "      <th>2</th>\n",
              "      <td>Google</td>\n",
              "      <td>Data Analyst, Product and Tools Operations, Go...</td>\n",
              "      <td>Technical Solutions</td>\n",
              "      <td>New York, NY, United States</td>\n",
              "      <td>Collect and analyze data to draw insight and i...</td>\n",
              "      <td>Bachelor’s degree in Business, Economics, Stat...</td>\n",
              "      <td>Experience partnering or consulting cross-func...</td>\n",
              "    </tr>\n",
              "    <tr>\n",
              "      <th>3</th>\n",
              "      <td>Google</td>\n",
              "      <td>Developer Advocate, Partner Engineering</td>\n",
              "      <td>Developer Relations</td>\n",
              "      <td>Mountain View, CA, United States</td>\n",
              "      <td>Work one-on-one with the top Android, iOS, and...</td>\n",
              "      <td>BA/BS degree in Computer Science or equivalent...</td>\n",
              "      <td>Experience as a software developer, architect,...</td>\n",
              "    </tr>\n",
              "    <tr>\n",
              "      <th>4</th>\n",
              "      <td>Google</td>\n",
              "      <td>Program Manager, Audio Visual (AV) Deployments</td>\n",
              "      <td>Program Management</td>\n",
              "      <td>Sunnyvale, CA, United States</td>\n",
              "      <td>Plan requirements with internal customers.\\nPr...</td>\n",
              "      <td>BA/BS degree or equivalent practical experienc...</td>\n",
              "      <td>CTS Certification.\\nExperience in the construc...</td>\n",
              "    </tr>\n",
              "  </tbody>\n",
              "</table>\n",
              "</div>"
            ],
            "text/plain": [
              "  Company  ...                           Preferred Qualifications\n",
              "0  Google  ...  Experience in the business technology market a...\n",
              "1  Google  ...  BSEE, BSME or BSIE degree.\\nExperience of usin...\n",
              "2  Google  ...  Experience partnering or consulting cross-func...\n",
              "3  Google  ...  Experience as a software developer, architect,...\n",
              "4  Google  ...  CTS Certification.\\nExperience in the construc...\n",
              "\n",
              "[5 rows x 7 columns]"
            ]
          },
          "metadata": {},
          "execution_count": 4
        }
      ]
    },
    {
      "cell_type": "code",
      "metadata": {
        "colab": {
          "base_uri": "https://localhost:8080/"
        },
        "id": "e8XfrTs7lHD_",
        "outputId": "8a568428-1e0d-488f-9165-41dc8ad7f2b6"
      },
      "source": [
        "df.columns"
      ],
      "execution_count": 5,
      "outputs": [
        {
          "output_type": "execute_result",
          "data": {
            "text/plain": [
              "Index(['Company', 'Title', 'Category', 'Location', 'Responsibilities',\n",
              "       'Minimum Qualifications', 'Preferred Qualifications'],\n",
              "      dtype='object')"
            ]
          },
          "metadata": {},
          "execution_count": 5
        }
      ]
    },
    {
      "cell_type": "code",
      "metadata": {
        "colab": {
          "base_uri": "https://localhost:8080/"
        },
        "id": "oxfOCbiHlPam",
        "outputId": "0de3edcc-1dfe-4a93-83b3-3c6a5910ba74"
      },
      "source": [
        "df.info()"
      ],
      "execution_count": 6,
      "outputs": [
        {
          "output_type": "stream",
          "name": "stdout",
          "text": [
            "<class 'pandas.core.frame.DataFrame'>\n",
            "RangeIndex: 1250 entries, 0 to 1249\n",
            "Data columns (total 7 columns):\n",
            " #   Column                    Non-Null Count  Dtype \n",
            "---  ------                    --------------  ----- \n",
            " 0   Company                   1250 non-null   object\n",
            " 1   Title                     1250 non-null   object\n",
            " 2   Category                  1250 non-null   object\n",
            " 3   Location                  1250 non-null   object\n",
            " 4   Responsibilities          1235 non-null   object\n",
            " 5   Minimum Qualifications    1236 non-null   object\n",
            " 6   Preferred Qualifications  1236 non-null   object\n",
            "dtypes: object(7)\n",
            "memory usage: 68.5+ KB\n"
          ]
        }
      ]
    },
    {
      "cell_type": "code",
      "metadata": {
        "colab": {
          "base_uri": "https://localhost:8080/"
        },
        "id": "EZKh4LFHngKC",
        "outputId": "7748bde4-abf7-446d-df22-715861166af8"
      },
      "source": [
        "pd.isnull(df).sum()"
      ],
      "execution_count": 7,
      "outputs": [
        {
          "output_type": "execute_result",
          "data": {
            "text/plain": [
              "Company                      0\n",
              "Title                        0\n",
              "Category                     0\n",
              "Location                     0\n",
              "Responsibilities            15\n",
              "Minimum Qualifications      14\n",
              "Preferred Qualifications    14\n",
              "dtype: int64"
            ]
          },
          "metadata": {},
          "execution_count": 7
        }
      ]
    },
    {
      "cell_type": "code",
      "metadata": {
        "id": "LBvm9Lcnyq7Q"
      },
      "source": [
        "df = df.dropna(how='any',axis='rows')"
      ],
      "execution_count": 8,
      "outputs": []
    },
    {
      "cell_type": "code",
      "metadata": {
        "id": "Y8zRwQzpmswa",
        "colab": {
          "base_uri": "https://localhost:8080/",
          "height": 170
        },
        "outputId": "42ce6cee-5ef8-4165-812b-20ba1e0c3e92"
      },
      "source": [
        "df.describe()"
      ],
      "execution_count": 9,
      "outputs": [
        {
          "output_type": "execute_result",
          "data": {
            "text/html": [
              "<div>\n",
              "<style scoped>\n",
              "    .dataframe tbody tr th:only-of-type {\n",
              "        vertical-align: middle;\n",
              "    }\n",
              "\n",
              "    .dataframe tbody tr th {\n",
              "        vertical-align: top;\n",
              "    }\n",
              "\n",
              "    .dataframe thead th {\n",
              "        text-align: right;\n",
              "    }\n",
              "</style>\n",
              "<table border=\"1\" class=\"dataframe\">\n",
              "  <thead>\n",
              "    <tr style=\"text-align: right;\">\n",
              "      <th></th>\n",
              "      <th>Company</th>\n",
              "      <th>Title</th>\n",
              "      <th>Category</th>\n",
              "      <th>Location</th>\n",
              "      <th>Responsibilities</th>\n",
              "      <th>Minimum Qualifications</th>\n",
              "      <th>Preferred Qualifications</th>\n",
              "    </tr>\n",
              "  </thead>\n",
              "  <tbody>\n",
              "    <tr>\n",
              "      <th>count</th>\n",
              "      <td>1235</td>\n",
              "      <td>1235</td>\n",
              "      <td>1235</td>\n",
              "      <td>1235</td>\n",
              "      <td>1235</td>\n",
              "      <td>1235</td>\n",
              "      <td>1235</td>\n",
              "    </tr>\n",
              "    <tr>\n",
              "      <th>unique</th>\n",
              "      <td>2</td>\n",
              "      <td>779</td>\n",
              "      <td>23</td>\n",
              "      <td>91</td>\n",
              "      <td>801</td>\n",
              "      <td>806</td>\n",
              "      <td>820</td>\n",
              "    </tr>\n",
              "    <tr>\n",
              "      <th>top</th>\n",
              "      <td>Google</td>\n",
              "      <td>Business Intern 2018</td>\n",
              "      <td>Sales &amp; Account Management</td>\n",
              "      <td>Mountain View, CA, United States</td>\n",
              "      <td>Responsibilities and detailed projects will be...</td>\n",
              "      <td>Must be pursuing a full-time MBA program with ...</td>\n",
              "      <td>Previous internship experience in Sales, Adver...</td>\n",
              "    </tr>\n",
              "    <tr>\n",
              "      <th>freq</th>\n",
              "      <td>1212</td>\n",
              "      <td>35</td>\n",
              "      <td>168</td>\n",
              "      <td>187</td>\n",
              "      <td>33</td>\n",
              "      <td>32</td>\n",
              "      <td>32</td>\n",
              "    </tr>\n",
              "  </tbody>\n",
              "</table>\n",
              "</div>"
            ],
            "text/plain": [
              "       Company  ...                           Preferred Qualifications\n",
              "count     1235  ...                                               1235\n",
              "unique       2  ...                                                820\n",
              "top     Google  ...  Previous internship experience in Sales, Adver...\n",
              "freq      1212  ...                                                 32\n",
              "\n",
              "[4 rows x 7 columns]"
            ]
          },
          "metadata": {},
          "execution_count": 9
        }
      ]
    },
    {
      "cell_type": "code",
      "metadata": {
        "colab": {
          "base_uri": "https://localhost:8080/"
        },
        "id": "tmVQCdfSsjqY",
        "outputId": "227b94b1-c2c4-4ff6-f7be-1bf19fc438c7"
      },
      "source": [
        "df.Company.value_counts()"
      ],
      "execution_count": 10,
      "outputs": [
        {
          "output_type": "execute_result",
          "data": {
            "text/plain": [
              "Google     1212\n",
              "YouTube      23\n",
              "Name: Company, dtype: int64"
            ]
          },
          "metadata": {},
          "execution_count": 10
        }
      ]
    },
    {
      "cell_type": "code",
      "metadata": {
        "id": "ec-XPJV1s3e_",
        "colab": {
          "base_uri": "https://localhost:8080/"
        },
        "outputId": "86dd2e8d-ab30-4ed0-ca2a-9c9eab59297f"
      },
      "source": [
        "df.Title.value_counts()[:10]"
      ],
      "execution_count": 11,
      "outputs": [
        {
          "output_type": "execute_result",
          "data": {
            "text/plain": [
              "Business Intern 2018                          35\n",
              "MBA Intern, Summer 2018                       34\n",
              "MBA Intern 2018                               28\n",
              "BOLD Intern, Summer 2018                      21\n",
              "Field Sales Representative, Google Cloud      17\n",
              "Interaction Designer                          12\n",
              "User Experience Researcher                     9\n",
              "Partner Sales Engineer, Google Cloud           7\n",
              "User Experience Design Intern, Summer 2018     7\n",
              "Recruiter                                      7\n",
              "Name: Title, dtype: int64"
            ]
          },
          "metadata": {},
          "execution_count": 11
        }
      ]
    },
    {
      "cell_type": "code",
      "metadata": {
        "id": "SWQybHKGs56G",
        "colab": {
          "base_uri": "https://localhost:8080/"
        },
        "outputId": "52f5b5e3-9718-4df4-8bcb-ee0cd3483f54"
      },
      "source": [
        "df.Category.value_counts()\n"
      ],
      "execution_count": 12,
      "outputs": [
        {
          "output_type": "execute_result",
          "data": {
            "text/plain": [
              "Sales & Account Management          168\n",
              "Marketing & Communications          165\n",
              "Finance                             115\n",
              "Technical Solutions                 100\n",
              "Business Strategy                    98\n",
              "People Operations                    86\n",
              "User Experience & Design             84\n",
              "Program Management                   72\n",
              "Partnerships                         59\n",
              "Product & Customer Support           50\n",
              "Legal & Government Relations         46\n",
              "Administrative                       40\n",
              "Sales Operations                     31\n",
              "Real Estate & Workplace Services     25\n",
              "Software Engineering                 24\n",
              "Hardware Engineering                 22\n",
              "Manufacturing & Supply Chain         16\n",
              "Technical Infrastructure             11\n",
              "Network Engineering                   6\n",
              "IT & Data Management                  5\n",
              "Technical Writing                     5\n",
              "Developer Relations                   5\n",
              "Data Center & Network                 2\n",
              "Name: Category, dtype: int64"
            ]
          },
          "metadata": {},
          "execution_count": 12
        }
      ]
    },
    {
      "cell_type": "code",
      "metadata": {
        "id": "U6on1Ut6tQAm"
      },
      "source": [
        "df['Country']=df['Location'].apply(lambda x : x.split(',')[-1])"
      ],
      "execution_count": 13,
      "outputs": []
    },
    {
      "cell_type": "code",
      "metadata": {
        "colab": {
          "base_uri": "https://localhost:8080/"
        },
        "id": "POnXdxQjuajf",
        "outputId": "6269d7c6-26ea-4e18-eea6-da19d78767da"
      },
      "source": [
        "df.Country.value_counts()[:10]\n"
      ],
      "execution_count": 14,
      "outputs": [
        {
          "output_type": "execute_result",
          "data": {
            "text/plain": [
              " United States     624\n",
              " Ireland            87\n",
              " United Kingdom     62\n",
              " Germany            53\n",
              "Singapore           41\n",
              " China              38\n",
              " Australia          35\n",
              " Japan              31\n",
              " Taiwan             30\n",
              " India              28\n",
              "Name: Country, dtype: int64"
            ]
          },
          "metadata": {},
          "execution_count": 14
        }
      ]
    },
    {
      "cell_type": "code",
      "metadata": {
        "id": "0aItoRVGvypk"
      },
      "source": [
        "df = df.rename(columns={'Minimum Qualifications': 'Minimum_Qualifications', 'Preferred Qualifications': 'Preferred_Qualifications'})"
      ],
      "execution_count": 15,
      "outputs": []
    },
    {
      "cell_type": "code",
      "metadata": {
        "id": "dMjkolSByzGw",
        "colab": {
          "base_uri": "https://localhost:8080/"
        },
        "outputId": "b5fd270b-d0eb-4f7b-bf98-722ee8e481c5"
      },
      "source": [
        "from nltk.corpus import stopwords \n",
        "from nltk.tokenize import word_tokenize \n",
        "import nltk\n",
        "nltk.download('stopwords')\n",
        "nltk.download('punkt')\n",
        "\n",
        "stop_words = set(stopwords.words('english')) \n",
        "\n",
        "df['Responsibilities'] = df.Responsibilities.apply(lambda x: word_tokenize(x))\n",
        "df['Responsibilities'] = df.Responsibilities.apply(lambda x: [w for w in x if w not in stop_words])\n",
        "df['Responsibilities'] = df.Responsibilities.apply(lambda x: ' '.join(x))\n",
        "\n",
        "df['Minimum_Qualifications'] = df.Minimum_Qualifications.apply(lambda x: word_tokenize(x))\n",
        "df['Minimum_Qualifications'] = df.Minimum_Qualifications.apply(lambda x: [w for w in x if w not in stop_words])\n",
        "df['Minimum_Qualifications'] = df.Minimum_Qualifications.apply(lambda x: ' '.join(x))\n",
        "\n",
        "df['Preferred_Qualifications'] = df.Preferred_Qualifications.apply(lambda x: word_tokenize(x))\n",
        "df['Preferred_Qualifications'] = df.Preferred_Qualifications.apply(lambda x: [w for w in x if w not in stop_words])\n",
        "df['Preferred_Qualifications'] = df.Preferred_Qualifications.apply(lambda x: ' '.join(x))\n",
        "\n"
      ],
      "execution_count": 25,
      "outputs": [
        {
          "output_type": "stream",
          "name": "stdout",
          "text": [
            "[nltk_data] Downloading package stopwords to /root/nltk_data...\n",
            "[nltk_data]   Package stopwords is already up-to-date!\n",
            "[nltk_data] Downloading package punkt to /root/nltk_data...\n",
            "[nltk_data]   Unzipping tokenizers/punkt.zip.\n"
          ]
        }
      ]
    },
    {
      "cell_type": "code",
      "metadata": {
        "id": "08jMhPKJpu-W"
      },
      "source": [
        "import re\n",
        "df['Minimum_years_experience'] = df['Minimum_Qualifications'].apply(lambda x : re.findall(r'([0-9]+) year',x))\n",
        "\n",
        "df['Minimum_years_experience'] = df['Minimum_years_experience'].apply(lambda y : [0] if len(y)==0 else y)\n",
        "\n",
        "df['Minimum_years_experience'] = df['Minimum_years_experience'].apply(lambda z : max(z))\n",
        "df['Minimum_years_experience'] = df.Minimum_years_experience.astype(int)"
      ],
      "execution_count": 28,
      "outputs": []
    },
    {
      "cell_type": "code",
      "metadata": {
        "id": "9PoPnc1tIf9x"
      },
      "source": [
        "df.head()"
      ],
      "execution_count": null,
      "outputs": []
    },
    {
      "cell_type": "code",
      "metadata": {
        "id": "mG2PUIS0pxPx",
        "colab": {
          "base_uri": "https://localhost:8080/"
        },
        "outputId": "64627d27-9a24-480a-cb2e-869f679a8b3f"
      },
      "source": [
        "df.Minimum_years_experience.describe()"
      ],
      "execution_count": 29,
      "outputs": [
        {
          "output_type": "execute_result",
          "data": {
            "text/plain": [
              "count    1235.000000\n",
              "mean        2.875304\n",
              "std         3.299820\n",
              "min         0.000000\n",
              "25%         0.000000\n",
              "50%         2.000000\n",
              "75%         5.000000\n",
              "max        15.000000\n",
              "Name: Minimum_years_experience, dtype: float64"
            ]
          },
          "metadata": {},
          "execution_count": 29
        }
      ]
    },
    {
      "cell_type": "code",
      "metadata": {
        "id": "u9KRYDLwvS_2",
        "colab": {
          "base_uri": "https://localhost:8080/"
        },
        "outputId": "0a3fc247-e667-4ad9-e50a-87f0600e6c00"
      },
      "source": [
        "Degree = ['BA','BS','Bachelor','MBA','Master','PhD']\n",
        "\n",
        "Degrees = dict((x,0) for x in Degree)\n",
        "for i in Degree:\n",
        "    x = df['Minimum_Qualifications'].str.contains(i).sum()\n",
        "    if i in Degrees:\n",
        "        Degrees[i] = x\n",
        "        \n",
        "print(Degrees)"
      ],
      "execution_count": 31,
      "outputs": [
        {
          "output_type": "stream",
          "name": "stdout",
          "text": [
            "{'BA': 908, 'BS': 878, 'Bachelor': 164, 'MBA': 71, 'Master': 81, 'PhD': 8}\n"
          ]
        }
      ]
    },
    {
      "cell_type": "code",
      "metadata": {
        "id": "wJwur7WnwO_v",
        "colab": {
          "base_uri": "https://localhost:8080/",
          "height": 230
        },
        "outputId": "e9e3bdc3-1e64-4991-e79f-67ddc3f01fae"
      },
      "source": [
        "degree_requirement = sorted(Degrees.items(), key=lambda x: x[1], reverse=True)\n",
        "degree = pd.DataFrame(degree_requirement,columns=['Degree','Count'])\n",
        "degree['Count'] = degree.Count.astype('int')\n",
        "degree"
      ],
      "execution_count": 32,
      "outputs": [
        {
          "output_type": "execute_result",
          "data": {
            "text/html": [
              "<div>\n",
              "<style scoped>\n",
              "    .dataframe tbody tr th:only-of-type {\n",
              "        vertical-align: middle;\n",
              "    }\n",
              "\n",
              "    .dataframe tbody tr th {\n",
              "        vertical-align: top;\n",
              "    }\n",
              "\n",
              "    .dataframe thead th {\n",
              "        text-align: right;\n",
              "    }\n",
              "</style>\n",
              "<table border=\"1\" class=\"dataframe\">\n",
              "  <thead>\n",
              "    <tr style=\"text-align: right;\">\n",
              "      <th></th>\n",
              "      <th>Degree</th>\n",
              "      <th>Count</th>\n",
              "    </tr>\n",
              "  </thead>\n",
              "  <tbody>\n",
              "    <tr>\n",
              "      <th>0</th>\n",
              "      <td>BA</td>\n",
              "      <td>908</td>\n",
              "    </tr>\n",
              "    <tr>\n",
              "      <th>1</th>\n",
              "      <td>BS</td>\n",
              "      <td>878</td>\n",
              "    </tr>\n",
              "    <tr>\n",
              "      <th>2</th>\n",
              "      <td>Bachelor</td>\n",
              "      <td>164</td>\n",
              "    </tr>\n",
              "    <tr>\n",
              "      <th>3</th>\n",
              "      <td>Master</td>\n",
              "      <td>81</td>\n",
              "    </tr>\n",
              "    <tr>\n",
              "      <th>4</th>\n",
              "      <td>MBA</td>\n",
              "      <td>71</td>\n",
              "    </tr>\n",
              "    <tr>\n",
              "      <th>5</th>\n",
              "      <td>PhD</td>\n",
              "      <td>8</td>\n",
              "    </tr>\n",
              "  </tbody>\n",
              "</table>\n",
              "</div>"
            ],
            "text/plain": [
              "     Degree  Count\n",
              "0        BA    908\n",
              "1        BS    878\n",
              "2  Bachelor    164\n",
              "3    Master     81\n",
              "4       MBA     71\n",
              "5       PhD      8"
            ]
          },
          "metadata": {},
          "execution_count": 32
        }
      ]
    },
    {
      "cell_type": "code",
      "metadata": {
        "id": "cU7hgN1DxkpQ",
        "colab": {
          "base_uri": "https://localhost:8080/",
          "height": 345
        },
        "outputId": "4acd9f50-f67a-47ba-a709-425f1c683092"
      },
      "source": [
        "degree.plot.bar(x='Degree',y='Count',legend=False)\n",
        "\n",
        "plt.title('Degree Distribution')\n",
        "plt.ylabel('Count')"
      ],
      "execution_count": 33,
      "outputs": [
        {
          "output_type": "execute_result",
          "data": {
            "text/plain": [
              "Text(0, 0.5, 'Count')"
            ]
          },
          "metadata": {},
          "execution_count": 33
        },
        {
          "output_type": "display_data",
          "data": {
            "image/png": "[encoded data removed]",
            "text/plain": [
              "<Figure size 432x288 with 1 Axes>"
            ]
          },
          "metadata": {
            "needs_background": "light"
          }
        }
      ]
    },
    {
      "cell_type": "code",
      "metadata": {
        "id": "9PgF2ZY5A-15",
        "colab": {
          "base_uri": "https://localhost:8080/",
          "height": 298
        },
        "outputId": "5bc0f0cc-c474-4b99-99c4-81861a514c89"
      },
      "source": [
        "df.Minimum_years_experience.plot(kind='box')\n",
        "plt.title('Minimum work experience')\n",
        "plt.ylabel('Years')"
      ],
      "execution_count": 34,
      "outputs": [
        {
          "output_type": "execute_result",
          "data": {
            "text/plain": [
              "Text(0, 0.5, 'Years')"
            ]
          },
          "metadata": {},
          "execution_count": 34
        },
        {
          "output_type": "display_data",
          "data": {
            "image/png": "[encoded data removed]",
            "text/plain": [
              "<Figure size 432x288 with 1 Axes>"
            ]
          },
          "metadata": {
            "needs_background": "light"
          }
        }
      ]
    },
    {
      "cell_type": "code",
      "metadata": {
        "id": "CJuDy2mUB0Qe",
        "colab": {
          "base_uri": "https://localhost:8080/",
          "height": 377
        },
        "outputId": "db6bd96d-1678-4546-bf0c-0a9b28a71f93"
      },
      "source": [
        "sns.countplot('Minimum_years_experience',data=df)\n",
        "plt.suptitle('Minimum work experience')"
      ],
      "execution_count": 35,
      "outputs": [
        {
          "output_type": "stream",
          "name": "stderr",
          "text": [
            "/usr/local/lib/python3.7/dist-packages/seaborn/_decorators.py:43: FutureWarning: Pass the following variable as a keyword arg: x. From version 0.12, the only valid positional argument will be `data`, and passing other arguments without an explicit keyword will result in an error or misinterpretation.\n",
            "  FutureWarning\n"
          ]
        },
        {
          "output_type": "execute_result",
          "data": {
            "text/plain": [
              "Text(0.5, 0.98, 'Minimum work experience')"
            ]
          },
          "metadata": {},
          "execution_count": 35
        },
        {
          "output_type": "display_data",
          "data": {
            "image/png": "[encoded data removed]",
            "text/plain": [
              "<Figure size 432x288 with 1 Axes>"
            ]
          },
          "metadata": {
            "needs_background": "light"
          }
        }
      ]
    },
    {
      "cell_type": "code",
      "metadata": {
        "colab": {
          "base_uri": "https://localhost:8080/"
        },
        "id": "ddVgZ_F7P30m",
        "outputId": "0ee248f2-9686-4221-c79d-64fbf7701726"
      },
      "source": [
        "Programming_Languages = ['Python', 'Java ','C#', 'PHP', 'Javascript', 'Ruby', 'Perl', 'SQL','Go ']\n",
        "\n",
        "Languages = dict((x,0) for x in Programming_Languages)\n",
        "for i in Languages:\n",
        "    x = df['Minimum_Qualifications'].str.contains(i).sum()\n",
        "    if i in Languages:\n",
        "        Languages[i] = x\n",
        "        \n",
        "print(Languages)"
      ],
      "execution_count": 40,
      "outputs": [
        {
          "output_type": "stream",
          "name": "stdout",
          "text": [
            "{'Python': 96, 'Java ': 71, 'C#': 0, 'PHP': 7, 'Javascript': 3, 'Ruby': 14, 'Perl': 6, 'SQL': 75, 'Go ': 26}\n"
          ]
        }
      ]
    },
    {
      "cell_type": "code",
      "metadata": {
        "colab": {
          "base_uri": "https://localhost:8080/",
          "height": 320
        },
        "id": "UaknR94tUebT",
        "outputId": "d8912f88-de8f-4388-c587-512686c965f4"
      },
      "source": [
        "languages_requirement = sorted(Languages.items(), key=lambda x: x[1], reverse=True)\n",
        "language = pd.DataFrame(languages_requirement,columns=['Language','Count'])\n",
        "language['Count'] = language.Count.astype('int')\n",
        "language"
      ],
      "execution_count": 41,
      "outputs": [
        {
          "output_type": "execute_result",
          "data": {
            "text/html": [
              "<div>\n",
              "<style scoped>\n",
              "    .dataframe tbody tr th:only-of-type {\n",
              "        vertical-align: middle;\n",
              "    }\n",
              "\n",
              "    .dataframe tbody tr th {\n",
              "        vertical-align: top;\n",
              "    }\n",
              "\n",
              "    .dataframe thead th {\n",
              "        text-align: right;\n",
              "    }\n",
              "</style>\n",
              "<table border=\"1\" class=\"dataframe\">\n",
              "  <thead>\n",
              "    <tr style=\"text-align: right;\">\n",
              "      <th></th>\n",
              "      <th>Language</th>\n",
              "      <th>Count</th>\n",
              "    </tr>\n",
              "  </thead>\n",
              "  <tbody>\n",
              "    <tr>\n",
              "      <th>0</th>\n",
              "      <td>Python</td>\n",
              "      <td>96</td>\n",
              "    </tr>\n",
              "    <tr>\n",
              "      <th>1</th>\n",
              "      <td>SQL</td>\n",
              "      <td>75</td>\n",
              "    </tr>\n",
              "    <tr>\n",
              "      <th>2</th>\n",
              "      <td>Java</td>\n",
              "      <td>71</td>\n",
              "    </tr>\n",
              "    <tr>\n",
              "      <th>3</th>\n",
              "      <td>Go</td>\n",
              "      <td>26</td>\n",
              "    </tr>\n",
              "    <tr>\n",
              "      <th>4</th>\n",
              "      <td>Ruby</td>\n",
              "      <td>14</td>\n",
              "    </tr>\n",
              "    <tr>\n",
              "      <th>5</th>\n",
              "      <td>PHP</td>\n",
              "      <td>7</td>\n",
              "    </tr>\n",
              "    <tr>\n",
              "      <th>6</th>\n",
              "      <td>Perl</td>\n",
              "      <td>6</td>\n",
              "    </tr>\n",
              "    <tr>\n",
              "      <th>7</th>\n",
              "      <td>Javascript</td>\n",
              "      <td>3</td>\n",
              "    </tr>\n",
              "    <tr>\n",
              "      <th>8</th>\n",
              "      <td>C#</td>\n",
              "      <td>0</td>\n",
              "    </tr>\n",
              "  </tbody>\n",
              "</table>\n",
              "</div>"
            ],
            "text/plain": [
              "     Language  Count\n",
              "0      Python     96\n",
              "1         SQL     75\n",
              "2       Java      71\n",
              "3         Go      26\n",
              "4        Ruby     14\n",
              "5         PHP      7\n",
              "6        Perl      6\n",
              "7  Javascript      3\n",
              "8          C#      0"
            ]
          },
          "metadata": {},
          "execution_count": 41
        }
      ]
    },
    {
      "cell_type": "code",
      "metadata": {
        "colab": {
          "base_uri": "https://localhost:8080/",
          "height": 350
        },
        "id": "4Jh9cyrhWIkX",
        "outputId": "ed615c0e-8d1c-40c9-eff7-9c698df22564"
      },
      "source": [
        "language.plot.bar(x='Language',y='Count',legend=False)\n",
        "\n",
        "plt.title('Language Distribution')\n",
        "plt.ylabel('Count')"
      ],
      "execution_count": 42,
      "outputs": [
        {
          "output_type": "execute_result",
          "data": {
            "text/plain": [
              "Text(0, 0.5, 'Count')"
            ]
          },
          "metadata": {},
          "execution_count": 42
        },
        {
          "output_type": "display_data",
          "data": {
            "image/png": "[encoded data removed]",
            "text/plain": [
              "<Figure size 432x288 with 1 Axes>"
            ]
          },
          "metadata": {
            "needs_background": "light"
          }
        }
      ]
    },
    {
      "cell_type": "markdown",
      "metadata": {
        "id": "dSjCMoYcuM-w"
      },
      "source": [
        "Analyst Based Roles"
      ]
    },
    {
      "cell_type": "code",
      "metadata": {
        "id": "mxcdW4NLr85Z"
      },
      "source": [
        "df_Analyst = df.loc[df.Title.str.contains('Analyst').fillna(False)]"
      ],
      "execution_count": 43,
      "outputs": []
    },
    {
      "cell_type": "code",
      "metadata": {
        "id": "lE2awDW3sUgU"
      },
      "source": [
        "df_Analyst"
      ],
      "execution_count": null,
      "outputs": []
    },
    {
      "cell_type": "code",
      "metadata": {
        "id": "OyX3S8h2jHNr",
        "colab": {
          "base_uri": "https://localhost:8080/",
          "height": 282
        },
        "outputId": "3ed89fd9-246d-445e-ab50-992d927acd58"
      },
      "source": [
        "DataSkill = [' R','Python','SQL','SAS']\n",
        "\n",
        "DataSkills = dict((x,0) for x in DataSkill)\n",
        "for i in DataSkill:\n",
        "    x = df_Analyst['Minimum_Qualifications'].str.contains(i).sum()\n",
        "    if i in DataSkill:\n",
        "        DataSkills[i] = x\n",
        "print(DataSkills)        \n",
        "names = list(DataSkills.keys())\n",
        "values = list(DataSkills.values())\n",
        "plt.bar(range(len(DataSkills)), values, tick_label=names)\n",
        "plt.show()"
      ],
      "execution_count": 69,
      "outputs": [
        {
          "output_type": "stream",
          "name": "stdout",
          "text": [
            "{' R': 17, 'Python': 13, 'SQL': 29, 'SAS': 12}\n"
          ]
        },
        {
          "output_type": "display_data",
          "data": {
            "image/png": "[encoded data removed]",
            "text/plain": [
              "<Figure size 432x288 with 1 Axes>"
            ]
          },
          "metadata": {
            "needs_background": "light"
          }
        }
      ]
    },
    {
      "cell_type": "code",
      "metadata": {
        "id": "1d9mqC5fzRN0"
      },
      "source": [
        "DV_Tools = ['Tableau','Power BI','Qlik','Data Studio','Google Analytics','GA']\n",
        "\n",
        "DV = dict((x,0) for x in DV_Tools)\n",
        "for i in DV:\n",
        "    x = df_Analyst['Minimum_Qualifications'].str.contains(i).sum()\n",
        "    if i in DV_Tools:\n",
        "        DV[i] = x\n",
        "        \n",
        "print(DV)\n",
        "names = list(DV.keys())\n",
        "values = list(DV.values())\n",
        "plt.bar(range(len(DV)), values, tick_label=names)\n",
        "plt.show()"
      ],
      "execution_count": null,
      "outputs": []
    },
    {
      "cell_type": "code",
      "metadata": {
        "id": "wJjntPGIzZ1J"
      },
      "source": [
        "SA_Tools = ['SPSS','R ','Matlab','Excel','Spreadsheet','SAS']\n",
        "\n",
        "SA = dict((x,0) for x in SA_Tools)\n",
        "for i in SA:\n",
        "    x = df_Analyst['Minimum_Qualifications'].str.contains(i).sum()\n",
        "    if i in SA_Tools:\n",
        "        SA[i] = x\n",
        "        \n",
        "print(SA)\n",
        "names = list(SA.keys())\n",
        "values = list(SA.values())\n",
        "plt.bar(range(len(SA)), values, tick_label=names)\n",
        "plt.show()"
      ],
      "execution_count": null,
      "outputs": []
    },
    {
      "cell_type": "code",
      "metadata": {
        "id": "-2JyHZsRnK5P"
      },
      "source": [
        "Degrees = dict((x,0) for x in Degree)\n",
        "for i in Degree:\n",
        "    x = df_Analyst['Minimum_Qualifications'].str.contains(i).sum()\n",
        "    if i in Degrees:\n",
        "        Degrees[i] = x\n",
        "        \n",
        "print(Degrees)\n",
        "names = list(Degrees.keys())\n",
        "values = list(Degrees.values())\n",
        "plt.bar(range(len(Degrees)), values, tick_label=names)\n",
        "plt.show()"
      ],
      "execution_count": null,
      "outputs": []
    },
    {
      "cell_type": "code",
      "metadata": {
        "id": "f7Eh4n9ksGjN"
      },
      "source": [
        "Degrees = dict((x,0) for x in Degree)\n",
        "for i in Degree:\n",
        "    x = df_Analyst['Preferred_Qualifications'].str.contains(i).sum()\n",
        "    if i in Degrees:\n",
        "        Degrees[i] = x\n",
        "        \n",
        "print(Degrees)\n",
        "names = list(Degrees.keys())\n",
        "values = list(Degrees.values())\n",
        "plt.bar(range(len(Degrees)), values, tick_label=names)\n",
        "plt.show()"
      ],
      "execution_count": null,
      "outputs": []
    },
    {
      "cell_type": "code",
      "metadata": {
        "id": "Pj2k9z53tnH1"
      },
      "source": [
        "sns.countplot('Minimum_years_experience',data=df_Analyst)\n",
        "plt.suptitle('Minimum work experience')"
      ],
      "execution_count": null,
      "outputs": []
    },
    {
      "cell_type": "code",
      "metadata": {
        "id": "_qPPuyX1wXw3"
      },
      "source": [
        "df_Analyst.Country.value_counts()"
      ],
      "execution_count": null,
      "outputs": []
    },
    {
      "cell_type": "markdown",
      "metadata": {
        "id": "H2ezXUzPuTYt"
      },
      "source": [
        "Developer Based Roles\n"
      ]
    },
    {
      "cell_type": "code",
      "metadata": {
        "id": "AqZjCafauWMH"
      },
      "source": [
        "df_Developer = df.loc[df.Title.str.contains('Developer').fillna(False)]"
      ],
      "execution_count": 76,
      "outputs": []
    },
    {
      "cell_type": "code",
      "metadata": {
        "id": "2ma3sKWNwP6q"
      },
      "source": [
        "df_Developer.Country.value_counts()"
      ],
      "execution_count": null,
      "outputs": []
    },
    {
      "cell_type": "code",
      "metadata": {
        "id": "v_H-wPipJSU0"
      },
      "source": [
        "DataSkill = ['Java ','Javascript','Go ','Python','Kotlin','SQL']\n",
        "\n",
        "DataSkills = dict((x,0) for x in DataSkill)\n",
        "for i in DataSkill:\n",
        "    x = df_Developer['Minimum_Qualifications'].str.contains(i).sum()\n",
        "    if i in DataSkill:\n",
        "        DataSkills[i] = x\n",
        "        \n",
        "print(DataSkills)\n",
        "names = list(DataSkills.keys())\n",
        "values = list(DataSkills.values())\n",
        "plt.bar(range(len(DataSkills)), values, tick_label=names)\n",
        "plt.show()"
      ],
      "execution_count": null,
      "outputs": []
    },
    {
      "cell_type": "code",
      "metadata": {
        "id": "-A89mzUjJUzS"
      },
      "source": [
        "Degrees = dict((x,0) for x in Degree)\n",
        "for i in Degree:\n",
        "    x = df_Developer['Preferred_Qualifications'].str.contains(i).sum()\n",
        "    if i in Degrees:\n",
        "        Degrees[i] = x\n",
        "        \n",
        "print(Degrees)\n",
        "names = list(Degrees.keys())\n",
        "values = list(Degrees.values())\n",
        "plt.bar(range(len(Degrees)), values, tick_label=names)\n",
        "plt.show()"
      ],
      "execution_count": null,
      "outputs": []
    },
    {
      "cell_type": "code",
      "metadata": {
        "id": "RcUipTvxJXot"
      },
      "source": [
        "sns.countplot('Minimum_years_experience',data=df_Developer)\n",
        "plt.suptitle('Minimum work experience')"
      ],
      "execution_count": null,
      "outputs": []
    },
    {
      "cell_type": "markdown",
      "metadata": {
        "id": "sTnPSzg2N6j5"
      },
      "source": [
        "Sales Roles\n"
      ]
    },
    {
      "cell_type": "code",
      "metadata": {
        "id": "Bm7C4zLFN_R8"
      },
      "source": [
        "df_Sales = df.loc[df.Title.str.contains('Sales').fillna(False)]"
      ],
      "execution_count": 83,
      "outputs": []
    },
    {
      "cell_type": "code",
      "metadata": {
        "id": "L073Ks4vOMrP"
      },
      "source": [
        "df_Sales.Category.value_counts()"
      ],
      "execution_count": null,
      "outputs": []
    },
    {
      "cell_type": "code",
      "metadata": {
        "id": "lvDfifbhOPTx"
      },
      "source": [
        "df_Sales.Country.value_counts()"
      ],
      "execution_count": null,
      "outputs": []
    },
    {
      "cell_type": "code",
      "metadata": {
        "id": "gcWA7f26OSYU"
      },
      "source": [
        "Degrees = dict((x,0) for x in Degree)\n",
        "for i in Degree:\n",
        "    x = df_Sales['Minimum_Qualifications'].str.contains(i).sum()\n",
        "    if i in Degrees:\n",
        "        Degrees[i] = x\n",
        "        \n",
        "print(Degrees)\n",
        "names = list(Degrees.keys())\n",
        "values = list(Degrees.values())\n",
        "plt.bar(range(len(Degrees)), values, tick_label=names)\n",
        "plt.show()"
      ],
      "execution_count": null,
      "outputs": []
    },
    {
      "cell_type": "code",
      "metadata": {
        "id": "Ke6z1LEFOcG3"
      },
      "source": [
        "Degrees = dict((x,0) for x in Degree)\n",
        "for i in Degree:\n",
        "    x = df_Sales['Preferred_Qualifications'].str.contains(i).sum()\n",
        "    if i in Degrees:\n",
        "        Degrees[i] = x\n",
        "        \n",
        "print(Degrees)\n",
        "names = list(Degrees.keys())\n",
        "values = list(Degrees.values())\n",
        "plt.bar(range(len(Degrees)), values, tick_label=names)\n",
        "plt.show()"
      ],
      "execution_count": null,
      "outputs": []
    },
    {
      "cell_type": "code",
      "metadata": {
        "id": "cUDlKiVsO9D0"
      },
      "source": [
        "Languages = dict((x,0) for x in Programming_Languages)\n",
        "for i in Languages:\n",
        "    x = df_Sales['Minimum_Qualifications'].str.contains(i).sum()\n",
        "    if i in Languages:\n",
        "        Languages[i] = x\n",
        "        \n",
        "print(Languages)\n",
        "names = list(Languages.keys())\n",
        "values = list(Languages.values())\n",
        "plt.bar(range(len(Languages)), values, tick_label=names)\n",
        "plt.show()"
      ],
      "execution_count": null,
      "outputs": []
    },
    {
      "cell_type": "code",
      "metadata": {
        "id": "4gWzuykTPO_r"
      },
      "source": [
        "Languages = dict((x,0) for x in Programming_Languages)\n",
        "for i in Languages:\n",
        "    x = df_Sales['Preferred_Qualifications'].str.contains(i).sum()\n",
        "    if i in Languages:\n",
        "        Languages[i] = x\n",
        "        \n",
        "print(Languages)\n",
        "names = list(Languages.keys())\n",
        "values = list(Languages.values())\n",
        "plt.bar(range(len(Languages)), values, tick_label=names)\n",
        "plt.show()"
      ],
      "execution_count": null,
      "outputs": []
    },
    {
      "cell_type": "code",
      "metadata": {
        "id": "uz4dc_8bPgsk"
      },
      "source": [
        "sns.countplot('Minimum_years_experience',data=df_Sales)\n",
        "plt.suptitle('Minimum work experience')"
      ],
      "execution_count": null,
      "outputs": []
    }
  ]
}